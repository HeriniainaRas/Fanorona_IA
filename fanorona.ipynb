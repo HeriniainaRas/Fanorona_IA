{
  "cells": [
    {
      "cell_type": "code",
      "execution_count": 62,
      "metadata": {
        "colab": {
          "base_uri": "https://localhost:8080/",
          "height": 612
        },
        "id": "eOK-9tnu_xeF",
        "outputId": "47e950a9-52be-4235-cc60-6896ddea3202"
      },
      "outputs": [
        {
          "name": "stdout",
          "output_type": "stream",
          "text": [
            "[[-1  0  0 ...  1  1  1]\n",
            " [ 0  0  0 ...  0 -1 -1]\n",
            " [ 1  1  1 ...  0  0  0]\n",
            " ...\n",
            " [ 1  1  0 ...  0 -1  0]\n",
            " [ 0  0  0 ...  0  0  0]\n",
            " [ 0  0  0 ...  1  1  0]]\n",
            "Exemple de données : [[-1  0  0  0  0  0  1  1  1]\n",
            " [ 0  0  0  0  0  0  0 -1 -1]\n",
            " [ 1  1  1  0  0  0  0  0  0]\n",
            " [-1 -1 -1  0  0  0  0  0  0]\n",
            " [-1  0  0  0 -1  0  0  0  0]]\n",
            "Exemple de labels : [1 0 1 1 0]\n",
            "Decision Tree Accuracy: 0.91\n",
            "KNN Accuracy: 0.90\n"
          ]
        },
        {
          "data": {
            "image/png": "[encoded data removed]",
            "text/plain": [
              "<Figure size 800x500 with 1 Axes>"
            ]
          },
          "metadata": {},
          "output_type": "display_data"
        }
      ],
      "source": [
        "\n",
        "\n",
        "import csv\n",
        "import numpy as np\n",
        "import matplotlib.pyplot as plt\n",
        "from sklearn.model_selection import train_test_split\n",
        "from sklearn.tree import DecisionTreeClassifier\n",
        "from sklearn.neighbors import KNeighborsClassifier\n",
        "from sklearn.metrics import accuracy_score\n",
        "import ast\n",
        "from sklearn.utils import shuffle\n",
        "\n",
        "def load_dataset(csv_file):\n",
        "    \"\"\"Charge le dataset depuis un fichier CSV.\"\"\"\n",
        "    data = []\n",
        "    labels = []\n",
        "    with open(csv_file, 'r') as f:\n",
        "        reader = csv.reader(f)\n",
        "        next(reader)  # Ignorer l'en-tête\n",
        "        for row in reader:\n",
        "            labels.append(int(row[0]))  # La première colonne est le label\n",
        "            # Safely evaluate the string representation of the board\n",
        "            board = ast.literal_eval(row[1])\n",
        "            # Flatten the board into a 1D array\n",
        "            board = [item for sublist in board for item in sublist]\n",
        "            data.append(board)\n",
        "    return np.array(data), np.array(labels)\n",
        "\n",
        "# Charger le dataset\n",
        "file_path = \"fanorona_dataset_cleaned.csv\" \n",
        "data, labels = load_dataset(file_path)\n",
        "\n",
        "# Mélanger les données et les étiquettes de manière synchronisée\n",
        "data, labels = shuffle(data, labels, random_state=42)\n",
        "print(data)\n",
        "print(\"Exemple de données :\", data[:5])\n",
        "print(\"Exemple de labels :\", labels[:5])\n",
        "\n",
        "# Division des données\n",
        "X_train, X_test, y_train, y_test = train_test_split(data, labels, test_size=0.2, random_state=42)\n",
        "\n",
        "# print(\"X_train\", X_train)\n",
        "# print(\"X_test\", X_test)\n",
        "# print(\"y_train\", y_train)\n",
        "# print(\"y_test\", y_test)\n",
        "# Modèle Arbre de Décision\n",
        "dt_model = DecisionTreeClassifier(random_state=42)\n",
        "dt_model.fit(X_train, y_train)\n",
        "y_pred_dt = dt_model.predict(X_test)\n",
        "dt_accuracy = accuracy_score(y_test, y_pred_dt)\n",
        "\n",
        "# Modèle KNN\n",
        "knn_model = KNeighborsClassifier(n_neighbors=5)\n",
        "knn_model.fit(X_train, y_train)\n",
        "y_pred_knn = knn_model.predict(X_test)\n",
        "knn_accuracy = accuracy_score(y_test, y_pred_knn)\n",
        "\n",
        "print(f\"Decision Tree Accuracy: {dt_accuracy:.2f}\")\n",
        "print(f\"KNN Accuracy: {knn_accuracy:.2f}\")\n",
        "\n",
        "# Visualisation des performances\n",
        "models = [\"Decision Tree\", \"KNN\"]\n",
        "accuracies = [dt_accuracy, knn_accuracy]\n",
        "\n",
        "plt.figure(figsize=(8, 5))\n",
        "plt.bar(models, accuracies, color=['blue', 'green'])\n",
        "plt.ylim(0, 1)\n",
        "plt.xlabel(\"Modèle\")\n",
        "plt.ylabel(\"Précision\")\n",
        "plt.title(\"Comparaison des performances des modèles\")\n",
        "plt.show()\n",
        "\n",
        "     "
      ]
    },
    {
      "cell_type": "code",
      "execution_count": null,
      "metadata": {},
      "outputs": [],
      "source": []
    }
  ],
  "metadata": {
    "colab": {
      "provenance": []
    },
    "kernelspec": {
      "display_name": "Python 3",
      "name": "python3"
    },
    "language_info": {
      "codemirror_mode": {
        "name": "ipython",
        "version": 3
      },
      "file_extension": ".py",
      "mimetype": "text/x-python",
      "name": "python",
      "nbconvert_exporter": "python",
      "pygments_lexer": "ipython3",
      "version": "3.13.0"
    }
  },
  "nbformat": 4,
  "nbformat_minor": 0
}
