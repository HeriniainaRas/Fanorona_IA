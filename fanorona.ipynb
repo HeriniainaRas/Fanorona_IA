{
  "cells": [
    {
      "cell_type": "code",
      "execution_count": 59,
      "metadata": {
        "colab": {
          "base_uri": "https://localhost:8080/",
          "height": 612
        },
        "id": "eOK-9tnu_xeF",
        "outputId": "47e950a9-52be-4235-cc60-6896ddea3202"
      },
      "outputs": [
        {
          "data": {
            "image/png": "[encoded data removed]",
            "text/plain": [
              "<Figure size 800x500 with 1 Axes>"
            ]
          },
          "metadata": {},
          "output_type": "display_data"
        },
        {
          "name": "stdout",
          "output_type": "stream",
          "text": [
            "Decision Tree Accuracy après tuning : 0.91\n",
            "KNN Accuracy après recherche d'hyperparamètres : 0.94\n"
          ]
        }
      ],
      "source": [
        "import csv\n",
        "import numpy as np\n",
        "import matplotlib.pyplot as plt\n",
        "from sklearn.model_selection import train_test_split, cross_val_score, GridSearchCV\n",
        "from sklearn.tree import DecisionTreeClassifier\n",
        "from sklearn.neighbors import KNeighborsClassifier\n",
        "from sklearn.metrics import accuracy_score\n",
        "import ast\n",
        "from sklearn.utils import shuffle\n",
        "from sklearn.preprocessing import StandardScaler\n",
        "\n",
        "# Fonction pour charger le dataset\n",
        "def load_dataset(csv_file):\n",
        "    \"\"\"Charge le dataset depuis un fichier CSV.\"\"\"\n",
        "    data = []\n",
        "    labels = []\n",
        "    with open(csv_file, 'r') as f:\n",
        "        reader = csv.reader(f)\n",
        "        next(reader)  # Ignorer l'en-tête\n",
        "        for row in reader:\n",
        "            labels.append(int(row[0]))  # La première colonne est le label\n",
        "            # Safely evaluate the string representation of the board\n",
        "            board = ast.literal_eval(row[1])\n",
        "            # Flatten the board into a 1D array\n",
        "            board = [item for sublist in board for item in sublist]\n",
        "            data.append(board)\n",
        "    return np.array(data), np.array(labels)\n",
        "\n",
        "# Charger le dataset\n",
        "file_path = \"dataset_cleaned.csv\" \n",
        "data, labels = load_dataset(file_path)\n",
        "\n",
        "# Mélanger les données et les étiquettes de manière synchronisée\n",
        "data, labels = shuffle(data, labels, random_state=42)\n",
        "\n",
        "# Division des données\n",
        "X_train, X_test, y_train, y_test = train_test_split(data, labels, test_size=0.2, random_state=42)\n",
        "\n",
        "# Normalisation des données\n",
        "scaler = StandardScaler()\n",
        "X_train_scaled = scaler.fit_transform(X_train)\n",
        "X_test_scaled = scaler.transform(X_test)\n",
        "\n",
        "# 1. Arbre de Décision (avec validation croisée)\n",
        "dt_model = DecisionTreeClassifier(random_state=42, max_depth=5)\n",
        "dt_model.fit(X_train_scaled, y_train)\n",
        "y_pred_dt = dt_model.predict(X_test_scaled)\n",
        "dt_accuracy = accuracy_score(y_test, y_pred_dt)\n",
        "\n",
        "# 2. KNN (avec hyperparamètres optimisés)\n",
        "knn_model = KNeighborsClassifier(n_neighbors=3)\n",
        "knn_model.fit(X_train_scaled, y_train)\n",
        "y_pred_knn = knn_model.predict(X_test_scaled)\n",
        "knn_accuracy = accuracy_score(y_test, y_pred_knn)\n",
        "\n",
        "# 3. Comparaison des modèles\n",
        "models = [\"Decision Tree\", \"KNN\"]\n",
        "accuracies = [dt_accuracy, knn_accuracy]\n",
        "\n",
        "plt.figure(figsize=(8, 5))\n",
        "plt.bar(models, accuracies, color=['blue', 'green'])\n",
        "plt.ylim(0, 1)\n",
        "plt.xlabel(\"Modèle\")\n",
        "plt.ylabel(\"Précision\")\n",
        "plt.title(\"Comparaison des performances des modèles\")\n",
        "plt.show()\n",
        "\n",
        "# Affichage des résultats\n",
        "print(f\"Decision Tree Accuracy après tuning : {dt_accuracy:.2f}\")\n",
        "print(f\"KNN Accuracy après recherche d'hyperparamètres : {knn_accuracy:.2f}\")\n"
      ]
    },
    {
      "cell_type": "code",
      "execution_count": null,
      "metadata": {},
      "outputs": [],
      "source": []
    }
  ],
  "metadata": {
    "colab": {
      "provenance": []
    },
    "kernelspec": {
      "display_name": "Python 3",
      "name": "python3"
    },
    "language_info": {
      "codemirror_mode": {
        "name": "ipython",
        "version": 3
      },
      "file_extension": ".py",
      "mimetype": "text/x-python",
      "name": "python",
      "nbconvert_exporter": "python",
      "pygments_lexer": "ipython3",
      "version": "3.13.0"
    }
  },
  "nbformat": 4,
  "nbformat_minor": 0
}
