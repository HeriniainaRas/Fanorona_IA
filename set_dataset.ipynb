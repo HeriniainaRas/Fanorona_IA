{
 "cells": [
  {
   "cell_type": "code",
   "execution_count": 5,
   "id": "f9256fcd-f11e-4b4a-ab6e-b1588ceb74e1",
   "metadata": {},
   "outputs": [
    {
     "data": {
      "text/html": [
       "<div>\n",
       "<style scoped>\n",
       "    .dataframe tbody tr th:only-of-type {\n",
       "        vertical-align: middle;\n",
       "    }\n",
       "\n",
       "    .dataframe tbody tr th {\n",
       "        vertical-align: top;\n",
       "    }\n",
       "\n",
       "    .dataframe thead th {\n",
       "        text-align: right;\n",
       "    }\n",
       "</style>\n",
       "<table border=\"1\" class=\"dataframe\">\n",
       "  <thead>\n",
       "    <tr style=\"text-align: right;\">\n",
       "      <th></th>\n",
       "      <th>Type</th>\n",
       "      <th>Board</th>\n",
       "    </tr>\n",
       "  </thead>\n",
       "  <tbody>\n",
       "    <tr>\n",
       "      <th>0</th>\n",
       "      <td>1</td>\n",
       "      <td>[[-1, -1, -1], [0, 0, 0], [0, 0, 0]]</td>\n",
       "    </tr>\n",
       "    <tr>\n",
       "      <th>1</th>\n",
       "      <td>1</td>\n",
       "      <td>[[0, -1, 0], [0, -1, 0], [0, -1, 0]]</td>\n",
       "    </tr>\n",
       "    <tr>\n",
       "      <th>2</th>\n",
       "      <td>1</td>\n",
       "      <td>[[0, 0, -1], [0, -1, 0], [-1, 0, 0]]</td>\n",
       "    </tr>\n",
       "    <tr>\n",
       "      <th>3</th>\n",
       "      <td>1</td>\n",
       "      <td>[[0, 0, -1], [0, -1, 0], [-1, 0, 0]]</td>\n",
       "    </tr>\n",
       "    <tr>\n",
       "      <th>4</th>\n",
       "      <td>1</td>\n",
       "      <td>[[0, 0, 0], [1, 1, 1], [0, 0, 0]]</td>\n",
       "    </tr>\n",
       "  </tbody>\n",
       "</table>\n",
       "</div>"
      ],
      "text/plain": [
       "   Type                                 Board\n",
       "0     1  [[-1, -1, -1], [0, 0, 0], [0, 0, 0]]\n",
       "1     1  [[0, -1, 0], [0, -1, 0], [0, -1, 0]]\n",
       "2     1  [[0, 0, -1], [0, -1, 0], [-1, 0, 0]]\n",
       "3     1  [[0, 0, -1], [0, -1, 0], [-1, 0, 0]]\n",
       "4     1     [[0, 0, 0], [1, 1, 1], [0, 0, 0]]"
      ]
     },
     "execution_count": 5,
     "metadata": {},
     "output_type": "execute_result"
    }
   ],
   "source": [
    "import pandas as pd\n",
    "\n",
    "# Charger le fichier\n",
    "file_path = \"fanorona_dataset.csv\"\n",
    "df = pd.read_csv(file_path)\n",
    "\n",
    "# Afficher les premières lignes pour examiner la structure\n",
    "df.head()"
   ]
  },
  {
   "cell_type": "code",
   "execution_count": 6,
   "id": "799259c6-e6ed-43f5-ab89-1202cddcfe0e",
   "metadata": {},
   "outputs": [
    {
     "data": {
      "text/plain": [
       "(Type\n",
       " 1    500\n",
       " 0    500\n",
       " Name: count, dtype: int64,\n",
       " np.int64(968),\n",
       " np.int64(968))"
      ]
     },
     "execution_count": 6,
     "metadata": {},
     "output_type": "execute_result"
    }
   ],
   "source": [
    "# Vérifier la répartition des types\n",
    "type_counts = df[\"Type\"].value_counts()\n",
    "\n",
    "# Vérifier le nombre de doublons exacts\n",
    "duplicate_rows = df.duplicated().sum()\n",
    "\n",
    "# Vérifier les doublons uniquement sur la colonne \"Board\" (états de jeu)\n",
    "duplicate_boards = df.duplicated(subset=[\"Board\"]).sum()\n",
    "\n",
    "type_counts, duplicate_rows, duplicate_boards"
   ]
  },
  {
   "cell_type": "code",
   "execution_count": 7,
   "id": "dae71bd3-56e8-4e3e-8977-17d2ffb44e49",
   "metadata": {},
   "outputs": [
    {
     "data": {
      "text/plain": [
       "32"
      ]
     },
     "execution_count": 7,
     "metadata": {},
     "output_type": "execute_result"
    }
   ],
   "source": [
    "# Supprimer les doublons tout en gardant 500 gagnants et 500 perdants\n",
    "df_unique = df.drop_duplicates(subset=[\"Board\"])\n",
    "\n",
    "# Vérifier combien de lignes uniques restent\n",
    "df_unique_count = len(df_unique)\n",
    "\n",
    "# Si on a moins de 1000 lignes après suppression des doublons, compléter avec des copies légères modifiées\n",
    "df_unique_count"
   ]
  },
  {
   "cell_type": "code",
   "execution_count": 8,
   "id": "73ac2d2f-0412-4afb-9b12-327584dc8608",
   "metadata": {},
   "outputs": [
    {
     "name": "stderr",
     "output_type": "stream",
     "text": [
      "C:\\Users\\LIANTSOA\\AppData\\Local\\Temp\\ipykernel_11712\\1194714045.py:13: SettingWithCopyWarning: \n",
      "A value is trying to be set on a copy of a slice from a DataFrame.\n",
      "Try using .loc[row_indexer,col_indexer] = value instead\n",
      "\n",
      "See the caveats in the documentation: https://pandas.pydata.org/pandas-docs/stable/user_guide/indexing.html#returning-a-view-versus-a-copy\n",
      "  df_unique[\"Board\"] = df_unique[\"Board\"].apply(ast.literal_eval)\n"
     ]
    },
    {
     "data": {
      "text/plain": [
       "Type\n",
       "1    64\n",
       "0    64\n",
       "Name: count, dtype: int64"
      ]
     },
     "execution_count": 8,
     "metadata": {},
     "output_type": "execute_result"
    }
   ],
   "source": [
    "import ast\n",
    "import numpy as np\n",
    "\n",
    "# Fonction pour effectuer une rotation de 90° sur un plateau\n",
    "def rotate_board(board):\n",
    "    return np.rot90(board).tolist()\n",
    "\n",
    "# Fonction pour inverser un plateau horizontalement\n",
    "def flip_board(board):\n",
    "    return np.fliplr(board).tolist()\n",
    "\n",
    "# Convertir les plateaux de jeu de chaîne en liste pour manipulation\n",
    "df_unique[\"Board\"] = df_unique[\"Board\"].apply(ast.literal_eval)\n",
    "\n",
    "# Générer des variations des plateaux pour augmenter la diversité\n",
    "augmented_boards = []\n",
    "for _, row in df_unique.iterrows():\n",
    "    board = np.array(row[\"Board\"])\n",
    "    augmented_boards.append((row[\"Type\"], board.tolist()))  # Original\n",
    "    augmented_boards.append((row[\"Type\"], rotate_board(board)))  # Rotation 90°\n",
    "    augmented_boards.append((row[\"Type\"], flip_board(board)))  # Flip horizontal\n",
    "    augmented_boards.append((row[\"Type\"], rotate_board(rotate_board(board))))  # Rotation 180°\n",
    "\n",
    "# Convertir en DataFrame et limiter à 1000 lignes\n",
    "df_augmented = pd.DataFrame(augmented_boards, columns=[\"Type\", \"Board\"]).head(1000)\n",
    "\n",
    "# Vérifier la nouvelle répartition des données\n",
    "df_augmented[\"Type\"].value_counts()"
   ]
  },
  {
   "cell_type": "code",
   "execution_count": 9,
   "id": "a2d1f916-639d-446e-a757-c6781d55cd8e",
   "metadata": {},
   "outputs": [
    {
     "data": {
      "text/plain": [
       "Type\n",
       "1    96\n",
       "0    96\n",
       "Name: count, dtype: int64"
      ]
     },
     "execution_count": 9,
     "metadata": {},
     "output_type": "execute_result"
    }
   ],
   "source": [
    "# Appliquer davantage de transformations pour enrichir les données\n",
    "more_augmented_boards = []\n",
    "\n",
    "for _, row in df_unique.iterrows():\n",
    "    board = np.array(row[\"Board\"])\n",
    "    \n",
    "    # Générer plusieurs variations\n",
    "    transformations = [\n",
    "        board.tolist(),\n",
    "        rotate_board(board),\n",
    "        flip_board(board),\n",
    "        rotate_board(rotate_board(board)),\n",
    "        rotate_board(flip_board(board)),\n",
    "        flip_board(rotate_board(board))\n",
    "    ]\n",
    "    \n",
    "    for transformed_board in transformations:\n",
    "        more_augmented_boards.append((row[\"Type\"], transformed_board))\n",
    "\n",
    "# Convertir en DataFrame et limiter à 1000 lignes équilibrées\n",
    "df_more_augmented = pd.DataFrame(more_augmented_boards, columns=[\"Type\", \"Board\"])\n",
    "\n",
    "# Assurer un équilibre entre gagnants et perdants\n",
    "df_balanced = pd.concat([\n",
    "    df_more_augmented[df_more_augmented[\"Type\"] == 1].head(500),\n",
    "    df_more_augmented[df_more_augmented[\"Type\"] == 0].head(500)\n",
    "])\n",
    "\n",
    "# Vérifier la répartition finale\n",
    "df_balanced[\"Type\"].value_counts()\n"
   ]
  },
  {
   "cell_type": "code",
   "execution_count": 14,
   "id": "b4bd9377-d477-4c89-9ca1-30b358a5c2da",
   "metadata": {},
   "outputs": [
    {
     "data": {
      "text/plain": [
       "Type\n",
       "1    176\n",
       "0    176\n",
       "Name: count, dtype: int64"
      ]
     },
     "execution_count": 14,
     "metadata": {},
     "output_type": "execute_result"
    }
   ],
   "source": [
    "# Générer plus de transformations en combinant rotation et flip de manière plus exhaustive\n",
    "final_augmented_boards = []\n",
    "\n",
    "for _, row in df_unique.iterrows():\n",
    "    board = np.array(row[\"Board\"])\n",
    "    \n",
    "    # Appliquer plus de variations sur chaque plateau\n",
    "    transformations = [\n",
    "        board.tolist(),\n",
    "        rotate_board(board),\n",
    "        rotate_board(rotate_board(board)),\n",
    "        rotate_board(rotate_board(rotate_board(board))),\n",
    "        flip_board(board),\n",
    "        rotate_board(flip_board(board)),\n",
    "        rotate_board(rotate_board(flip_board(board))),\n",
    "        rotate_board(rotate_board(rotate_board(flip_board(board)))),\n",
    "        flip_board(rotate_board(board)),\n",
    "        flip_board(rotate_board(rotate_board(board))),\n",
    "        flip_board(rotate_board(rotate_board(rotate_board(board))))\n",
    "    ]\n",
    "    \n",
    "    for transformed_board in transformations:\n",
    "        final_augmented_boards.append((row[\"Type\"], transformed_board))\n",
    "\n",
    "# Convertir en DataFrame et limiter à 1000 lignes équilibrées\n",
    "df_final = pd.DataFrame(final_augmented_boards, columns=[\"Type\", \"Board\"])\n",
    "\n",
    "# Assurer un équilibre entre gagnants et perdants (500 chacun)\n",
    "df_final_balanced = pd.concat([\n",
    "    df_final[df_final[\"Type\"] == 1].head(500),\n",
    "    df_final[df_final[\"Type\"] == 0].head(500)\n",
    "])\n",
    "\n",
    "# Vérifier la répartition finale\n",
    "df_final_balanced[\"Type\"].value_counts()\n"
   ]
  },
  {
   "cell_type": "code",
   "execution_count": 15,
   "id": "4738c7ab-fdd0-4271-a8a2-3e2e11a5d997",
   "metadata": {},
   "outputs": [
    {
     "data": {
      "text/plain": [
       "Type\n",
       "1    352\n",
       "0    352\n",
       "Name: count, dtype: int64"
      ]
     },
     "execution_count": 15,
     "metadata": {},
     "output_type": "execute_result"
    }
   ],
   "source": [
    "import random\n",
    "\n",
    "# Fonction pour introduire une petite perturbation dans le plateau de jeu\n",
    "def perturb_board(board):\n",
    "    perturbed_board = np.array(board).copy()\n",
    "    x, y = random.randint(0, 2), random.randint(0, 2)  # Choisir une position aléatoire\n",
    "    perturbed_board[x, y] = random.choice([-1, 0, 1])  # Modifier légèrement la valeur\n",
    "    return perturbed_board.tolist()\n",
    "\n",
    "# Générer plus de variations avec perturbations aléatoires\n",
    "extra_augmented_boards = []\n",
    "for _, row in df_final.iterrows():\n",
    "    board = row[\"Board\"]\n",
    "    extra_augmented_boards.append((row[\"Type\"], board))  # Original\n",
    "    extra_augmented_boards.append((row[\"Type\"], perturb_board(board)))  # Légèrement modifié\n",
    "\n",
    "# Convertir en DataFrame et équilibrer à 1000 lignes (500 gagnants, 500 perdants)\n",
    "df_extra = pd.DataFrame(extra_augmented_boards, columns=[\"Type\", \"Board\"])\n",
    "\n",
    "df_final_balanced = pd.concat([\n",
    "    df_extra[df_extra[\"Type\"] == 1].head(500),\n",
    "    df_extra[df_extra[\"Type\"] == 0].head(500)\n",
    "])\n",
    "\n",
    "# Vérifier la répartition finale\n",
    "df_final_balanced[\"Type\"].value_counts()\n"
   ]
  },
  {
   "cell_type": "code",
   "execution_count": 16,
   "id": "ba9f6656-8942-4e4c-a4a0-05ce58e7882c",
   "metadata": {},
   "outputs": [
    {
     "data": {
      "text/plain": [
       "Type\n",
       "1    648\n",
       "0    352\n",
       "Name: count, dtype: int64"
      ]
     },
     "execution_count": 16,
     "metadata": {},
     "output_type": "execute_result"
    }
   ],
   "source": [
    "# Générer encore plus de variations avec des perturbations supplémentaires\n",
    "while len(df_final_balanced) < 1000:\n",
    "    for _, row in df_extra.iterrows():\n",
    "        if len(df_final_balanced) >= 1000:\n",
    "            break\n",
    "        perturbed_board = perturb_board(row[\"Board\"])\n",
    "        df_final_balanced = pd.concat([df_final_balanced, pd.DataFrame([(row[\"Type\"], perturbed_board)], columns=[\"Type\", \"Board\"])])\n",
    "\n",
    "# Vérifier la répartition finale\n",
    "df_final_balanced[\"Type\"].value_counts()\n"
   ]
  },
  {
   "cell_type": "code",
   "execution_count": 17,
   "id": "abdef964-41b5-4942-9817-7de64c4aabbd",
   "metadata": {},
   "outputs": [
    {
     "data": {
      "text/plain": [
       "Type\n",
       "1    648\n",
       "0    352\n",
       "Name: count, dtype: int64"
      ]
     },
     "execution_count": 17,
     "metadata": {},
     "output_type": "execute_result"
    }
   ],
   "source": [
    "# Générer plus de variations pour les perdants uniquement\n",
    "extra_losing_boards = df_extra[df_extra[\"Type\"] == 0].sample(n=148, replace=True, random_state=42)\n",
    "\n",
    "# Ajouter ces nouvelles données aux perdants pour équilibrer\n",
    "df_final_balanced = pd.concat([df_final_balanced, extra_losing_boards]).head(1000)\n",
    "\n",
    "# Vérifier la répartition finale\n",
    "df_final_balanced[\"Type\"].value_counts()\n"
   ]
  },
  {
   "cell_type": "code",
   "execution_count": 18,
   "id": "e4f92bc5-cc13-4046-8d66-a574c2243c65",
   "metadata": {},
   "outputs": [
    {
     "data": {
      "text/plain": [
       "Type\n",
       "1    648\n",
       "0    500\n",
       "Name: count, dtype: int64"
      ]
     },
     "execution_count": 18,
     "metadata": {},
     "output_type": "execute_result"
    }
   ],
   "source": [
    "# Générer des variations supplémentaires pour les perdants jusqu'à obtenir 500\n",
    "while df_final_balanced[\"Type\"].value_counts()[0] < 500:\n",
    "    for _, row in df_extra[df_extra[\"Type\"] == 0].iterrows():\n",
    "        if df_final_balanced[\"Type\"].value_counts()[0] >= 500:\n",
    "            break\n",
    "        perturbed_board = perturb_board(row[\"Board\"])\n",
    "        df_final_balanced = pd.concat([df_final_balanced, pd.DataFrame([(row[\"Type\"], perturbed_board)], columns=[\"Type\", \"Board\"])])\n",
    "\n",
    "# Vérifier la répartition finale après équilibrage\n",
    "df_final_balanced[\"Type\"].value_counts()\n"
   ]
  },
  {
   "cell_type": "code",
   "execution_count": 19,
   "id": "dfffdbd0-d947-4a14-b66e-2e4bc3f3e0b1",
   "metadata": {},
   "outputs": [
    {
     "data": {
      "text/plain": [
       "Type\n",
       "1    500\n",
       "0    500\n",
       "Name: count, dtype: int64"
      ]
     },
     "execution_count": 19,
     "metadata": {},
     "output_type": "execute_result"
    }
   ],
   "source": [
    "# Réduire le nombre de gagnants à 500\n",
    "df_final_balanced = pd.concat([\n",
    "    df_final_balanced[df_final_balanced[\"Type\"] == 1].head(500),\n",
    "    df_final_balanced[df_final_balanced[\"Type\"] == 0].head(500)\n",
    "])\n",
    "\n",
    "# Vérifier la répartition finale après équilibrage\n",
    "df_final_balanced[\"Type\"].value_counts()\n"
   ]
  },
  {
   "cell_type": "code",
   "execution_count": 20,
   "id": "17cca7e1-2e0c-4fde-9912-c737a496f591",
   "metadata": {},
   "outputs": [
    {
     "data": {
      "text/plain": [
       "'fanorona_dataset_corrected.csv'"
      ]
     },
     "execution_count": 20,
     "metadata": {},
     "output_type": "execute_result"
    }
   ],
   "source": [
    "# Sauvegarder le dataset final\n",
    "final_file_path = \"fanorona_dataset_corrected.csv\"\n",
    "df_final_balanced.to_csv(final_file_path, index=False)\n",
    "\n",
    "# Retourner le chemin du fichier\n",
    "final_file_path\n"
   ]
  },
  {
   "cell_type": "code",
   "execution_count": 21,
   "id": "13c81368-10ea-4799-a09d-f5b8ba3d8032",
   "metadata": {},
   "outputs": [
    {
     "data": {
      "text/html": [
       "<div>\n",
       "<style scoped>\n",
       "    .dataframe tbody tr th:only-of-type {\n",
       "        vertical-align: middle;\n",
       "    }\n",
       "\n",
       "    .dataframe tbody tr th {\n",
       "        vertical-align: top;\n",
       "    }\n",
       "\n",
       "    .dataframe thead th {\n",
       "        text-align: right;\n",
       "    }\n",
       "</style>\n",
       "<table border=\"1\" class=\"dataframe\">\n",
       "  <thead>\n",
       "    <tr style=\"text-align: right;\">\n",
       "      <th></th>\n",
       "      <th>Type</th>\n",
       "      <th>Board</th>\n",
       "    </tr>\n",
       "  </thead>\n",
       "  <tbody>\n",
       "    <tr>\n",
       "      <th>0</th>\n",
       "      <td>1</td>\n",
       "      <td>[[-1, -1, -1], [0, 0, 0], [0, 0, 0]]</td>\n",
       "    </tr>\n",
       "    <tr>\n",
       "      <th>1</th>\n",
       "      <td>1</td>\n",
       "      <td>[[-1, -1, -1], [0, 0, 0], [0, 0, -1]]</td>\n",
       "    </tr>\n",
       "    <tr>\n",
       "      <th>2</th>\n",
       "      <td>1</td>\n",
       "      <td>[[-1, 0, 0], [-1, 0, 0], [-1, 0, 0]]</td>\n",
       "    </tr>\n",
       "    <tr>\n",
       "      <th>3</th>\n",
       "      <td>1</td>\n",
       "      <td>[[-1, 0, 0], [-1, 0, 0], [-1, 0, 0]]</td>\n",
       "    </tr>\n",
       "    <tr>\n",
       "      <th>4</th>\n",
       "      <td>1</td>\n",
       "      <td>[[0, 0, 0], [0, 0, 0], [-1, -1, -1]]</td>\n",
       "    </tr>\n",
       "  </tbody>\n",
       "</table>\n",
       "</div>"
      ],
      "text/plain": [
       "   Type                                  Board\n",
       "0     1   [[-1, -1, -1], [0, 0, 0], [0, 0, 0]]\n",
       "1     1  [[-1, -1, -1], [0, 0, 0], [0, 0, -1]]\n",
       "2     1   [[-1, 0, 0], [-1, 0, 0], [-1, 0, 0]]\n",
       "3     1   [[-1, 0, 0], [-1, 0, 0], [-1, 0, 0]]\n",
       "4     1   [[0, 0, 0], [0, 0, 0], [-1, -1, -1]]"
      ]
     },
     "execution_count": 21,
     "metadata": {},
     "output_type": "execute_result"
    }
   ],
   "source": [
    "# Recharger le fichier corrigé pour analyser la structure\n",
    "df_corrected = pd.read_csv(final_file_path)\n",
    "\n",
    "# Afficher les premières lignes pour vérifier l'ordre des colonnes\n",
    "df_corrected.head()\n"
   ]
  },
  {
   "cell_type": "code",
   "execution_count": 22,
   "id": "f2dc5af2-f123-42a3-a6a7-78543d02f3ce",
   "metadata": {},
   "outputs": [
    {
     "name": "stdout",
     "output_type": "stream",
     "text": [
      "fichier nettoyé\n"
     ]
    }
   ],
   "source": [
    "# Reformater le fichier CSV pour éviter les erreurs d'interprétation\n",
    "# S'assurer que \"Type\" est bien la première colonne et est stocké en int\n",
    "df_corrected[\"Type\"] = df_corrected[\"Type\"].astype(int)\n",
    "\n",
    "# Sauvegarder une nouvelle version propre du fichier\n",
    "cleaned_file_path = \"fanorona_dataset_cleaned.csv\"\n",
    "df_corrected.to_csv(cleaned_file_path, index=False, header=False)  # Supprimer l'en-tête pour éviter d'éventuels problèmes\n",
    "\n",
    "# Retourner le chemin du fichier\n",
    "cleaned_file_path\n",
    "print(\"fichier nettoyé\")"
   ]
  },
  {
   "cell_type": "code",
   "execution_count": null,
   "id": "e86ae8da-ec97-4d94-8840-e0745661ba9c",
   "metadata": {},
   "outputs": [],
   "source": []
  },
  {
   "cell_type": "code",
   "execution_count": null,
   "id": "4a4d1aee-53fc-4871-947b-a918e9c4b38d",
   "metadata": {},
   "outputs": [],
   "source": []
  }
 ],
 "metadata": {
  "kernelspec": {
   "display_name": "Python 3 (ipykernel)",
   "language": "python",
   "name": "python3"
  },
  "language_info": {
   "codemirror_mode": {
    "name": "ipython",
    "version": 3
   },
   "file_extension": ".py",
   "mimetype": "text/x-python",
   "name": "python",
   "nbconvert_exporter": "python",
   "pygments_lexer": "ipython3",
   "version": "3.13.0"
  }
 },
 "nbformat": 4,
 "nbformat_minor": 5
}
